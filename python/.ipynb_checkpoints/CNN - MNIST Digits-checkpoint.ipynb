{
 "cells": [
  {
   "cell_type": "code",
   "execution_count": 1,
   "metadata": {},
   "outputs": [],
   "source": [
    "import tensorflow as tf\n",
    "from tensorflow import keras\n",
    "\n",
    "import numpy as np\n",
    "import matplotlib.pyplot as plt\n",
    "import pandas as pd"
   ]
  },
  {
   "cell_type": "code",
   "execution_count": 2,
   "metadata": {},
   "outputs": [],
   "source": [
    "from tensorflow.keras import Sequential\n",
    "from tensorflow.keras import layers"
   ]
  },
  {
   "cell_type": "code",
   "execution_count": 3,
   "metadata": {},
   "outputs": [
    {
     "name": "stdout",
     "output_type": "stream",
     "text": [
      "Model: \"sequential\"\n",
      "_________________________________________________________________\n",
      "Layer (type)                 Output Shape              Param #   \n",
      "=================================================================\n",
      "conv2d (Conv2D)              (None, 24, 24, 32)        832       \n",
      "_________________________________________________________________\n",
      "max_pooling2d (MaxPooling2D) (None, 12, 12, 32)        0         \n",
      "_________________________________________________________________\n",
      "conv2d_1 (Conv2D)            (None, 8, 8, 64)          51264     \n",
      "_________________________________________________________________\n",
      "max_pooling2d_1 (MaxPooling2 (None, 4, 4, 64)          0         \n",
      "_________________________________________________________________\n",
      "flatten (Flatten)            (None, 1024)              0         \n",
      "_________________________________________________________________\n",
      "dense (Dense)                (None, 10)                10250     \n",
      "=================================================================\n",
      "Total params: 62,346\n",
      "Trainable params: 62,346\n",
      "Non-trainable params: 0\n",
      "_________________________________________________________________\n"
     ]
    }
   ],
   "source": [
    "# Sequential Neural Network Model from Keras - Sequence of Layers\n",
    "model = Sequential()\n",
    "\n",
    "# 32 different convolution filters, 5 x 5 filter window, neuron activation = ReLU\n",
    "# Input Tensor has size (28, 28, 1) - MNIST Digit Dataset 28x28 pixels, 1 luma channel\n",
    "model.add(layers.Conv2D(32,(5,5),activation='relu', input_shape=(28,28,1)))\n",
    "# Pooling Layer with MAX_Pooling and a 2x2 window\n",
    "model.add(layers.MaxPooling2D((2,2)))\n",
    "# 64 different convolution filters, 5 x 5 filter window, neuron activation = ReLU\n",
    "# Input Tensor has size (28, 28, 1) - MNIST Digit Dataset 28x28 pixels, 1 luma channel\n",
    "model.add(layers.Conv2D(64, (5,5), activation='relu', input_shape=(28, 28, 1)))\n",
    "# Pooling Layer with MAX_Pooling and a 2x2 window\n",
    "model.add(layers.MaxPooling2D((2,2)))\n",
    "\n",
    "# Flatten layers from 3D tensor to 1D vector\n",
    "model.add(layers.Flatten())\n",
    "\n",
    "# Final Dense layer for classification\n",
    "model.add(layers.Dense(10, activation='softmax'))\n",
    "\n",
    "# Print Summary of our Model\n",
    "model.summary()"
   ]
  },
  {
   "cell_type": "code",
   "execution_count": 31,
   "metadata": {},
   "outputs": [
    {
     "name": "stdout",
     "output_type": "stream",
     "text": [
      "(60000, 28, 28)\n",
      "(60000,)\n",
      "Train on 60000 samples\n",
      "Epoch 1/5\n",
      "60000/60000 [==============================] - 10s 168us/sample - loss: 0.0582 - accuracy: 0.9825- loss: 0.0582 - \n",
      "Epoch 2/5\n",
      "60000/60000 [==============================] - 10s 163us/sample - loss: 0.0565 - accuracy: 0.9829\n",
      "Epoch 3/5\n",
      "60000/60000 [==============================] - 10s 162us/sample - loss: 0.0548 - accuracy: 0.9830\n",
      "Epoch 4/5\n",
      "60000/60000 [==============================] - 10s 161us/sample - loss: 0.0524 - accuracy: 0.9842\n",
      "Epoch 5/5\n",
      "60000/60000 [==============================] - 10s 162us/sample - loss: 0.0510 - accuracy: 0.9847\n",
      "10000/10000 [==============================] - 1s 103us/sample - loss: 0.0468 - accuracy: 0.9848\n",
      "Test accuracy: 0.9848\n"
     ]
    }
   ],
   "source": [
    "from tensorflow.keras.utils import to_categorical\n",
    "\n",
    "# Get MNISt Dataset\n",
    "mnist = tf.keras.datasets.mnist\n",
    "# Split into Train and Test Data\n",
    "(train_images, train_labels), (test_images, test_labels) = mnist.load_data()\n",
    "\n",
    "\n",
    "print (train_images.shape)\n",
    "print (train_labels.shape)\n",
    "\n",
    "# Reshape the Data\n",
    "train_images = train_images.reshape((60000, 28, 28, 1))\n",
    "train_images = train_images.astype('float32') / 255\n",
    "test_images = test_images.reshape((10000, 28, 28, 1))\n",
    "test_images = test_images.astype('float32') / 255\n",
    "\n",
    "\n",
    "train_labels = to_categorical(train_labels)\n",
    "test_labels = to_categorical(test_labels)\n",
    "\n",
    "model.compile(loss='categorical_crossentropy',\n",
    "              optimizer='sgd',\n",
    "              metrics=['accuracy'])\n",
    "\n",
    "# Train the CNN\n",
    "model.fit(train_images, train_labels,\n",
    "          batch_size=100,\n",
    "          epochs=5,\n",
    "          verbose=1)\n",
    "\n",
    "# Evaluate the CNN\n",
    "test_loss, test_acc = model.evaluate(test_images, test_labels)\n",
    "\n",
    "print('Test accuracy:', test_acc)"
   ]
  },
  {
   "cell_type": "code",
   "execution_count": 73,
   "metadata": {},
   "outputs": [],
   "source": [
    "from tensorflow.keras.preprocessing import image\n",
    "\n",
    "# Define image size\n",
    "img_width, img_height = 28, 28\n",
    "\n",
    "# Load Images of own written numbers\n",
    "six = image.load_img('../images/six.jpg', target_size = (img_width, img_height), color_mode=\"grayscale\")\n",
    "six_coloured = image.load_img('../images/six.jpg')\n",
    "three = image.load_img('../images/three.jpg', target_size = (img_width, img_height), color_mode=\"grayscale\")\n",
    "three_coloured = image.load_img('../images/three.jpg')\n",
    "five = image.load_img('../images/five.jpg', target_size = (img_width, img_height), color_mode=\"grayscale\")\n",
    "five_coloured = image.load_img('../images/five.jpg')\n",
    "\n",
    "# convert images\n",
    "six = image.img_to_array(six)\n",
    "six = np.expand_dims(six, axis = 0)\n",
    "three = image.img_to_array(three)\n",
    "three = np.expand_dims(three, axis = 0)\n",
    "five = image.img_to_array(five)\n",
    "five = np.expand_dims(five, axis = 0)"
   ]
  },
  {
   "cell_type": "code",
   "execution_count": 84,
   "metadata": {},
   "outputs": [
    {
     "data": {
      "image/png": "[encoded data removed]",
      "text/plain": [
       "<Figure size 864x864 with 3 Axes>"
      ]
     },
     "metadata": {
      "needs_background": "light"
     },
     "output_type": "display_data"
    }
   ],
   "source": [
    "# Our plots\n",
    "plots = [(model.predict_classes(six), six_coloured),\n",
    "         (model.predict_classes(three), three_coloured),\n",
    "         (model.predict_classes(five), five_coloured),\n",
    "]\n",
    "\n",
    "# Define Figure Size\n",
    "plt.figure(figsize=(12,12))\n",
    "\n",
    "# Print the plots\n",
    "i = 1\n",
    "for (title, plot) in plots:\n",
    "  plt.subplot(3, 3, i)\n",
    "  imgplot = plt.imshow(plot)\n",
    "  plt.title(title)\n",
    "  i+=1\n",
    "\n",
    "# Formatting of the plots, margin\n",
    "plt.subplots_adjust(left=0.125,\n",
    "                  bottom=0.1, \n",
    "                  right=0.9, \n",
    "                  top=0.9, \n",
    "                  wspace=0.2, \n",
    "                  hspace=0.35)"
   ]
  },
  {
   "cell_type": "code",
   "execution_count": null,
   "metadata": {},
   "outputs": [],
   "source": []
  }
 ],
 "metadata": {
  "kernelspec": {
   "display_name": "Python 3",
   "language": "python",
   "name": "python3"
  },
  "language_info": {
   "codemirror_mode": {
    "name": "ipython",
    "version": 3
   },
   "file_extension": ".py",
   "mimetype": "text/x-python",
   "name": "python",
   "nbconvert_exporter": "python",
   "pygments_lexer": "ipython3",
   "version": "3.6.5"
  }
 },
 "nbformat": 4,
 "nbformat_minor": 4
}
